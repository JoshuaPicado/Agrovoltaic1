{
  "nbformat": 4,
  "nbformat_minor": 0,
  "metadata": {
    "colab": {
      "provenance": [],
      "authorship_tag": "ABX9TyNsoAXPg0WlOo7Kl8908+Ov",
      "include_colab_link": true
    },
    "kernelspec": {
      "name": "python3",
      "display_name": "Python 3"
    },
    "language_info": {
      "name": "python"
    },
    "widgets": {
      "application/vnd.jupyter.widget-state+json": {
        "e718ebc4214744a093cd40834bea2db3": {
          "model_module": "@jupyter-widgets/controls",
          "model_name": "DatePickerModel",
          "model_module_version": "1.5.0",
          "state": {
            "_dom_classes": [],
            "_model_module": "@jupyter-widgets/controls",
            "_model_module_version": "1.5.0",
            "_model_name": "DatePickerModel",
            "_view_count": null,
            "_view_module": "@jupyter-widgets/controls",
            "_view_module_version": "1.5.0",
            "_view_name": "DatePickerView",
            "description": "Start Date",
            "description_tooltip": null,
            "disabled": false,
            "layout": "IPY_MODEL_ae5a4c1a41f240ffa5c6434eb76514b3",
            "style": "IPY_MODEL_acdcbb0cd4f34b0a8a2782e3298cdd23",
            "value": null
          }
        },
        "ae5a4c1a41f240ffa5c6434eb76514b3": {
          "model_module": "@jupyter-widgets/base",
          "model_name": "LayoutModel",
          "model_module_version": "1.2.0",
          "state": {
            "_model_module": "@jupyter-widgets/base",
            "_model_module_version": "1.2.0",
            "_model_name": "LayoutModel",
            "_view_count": null,
            "_view_module": "@jupyter-widgets/base",
            "_view_module_version": "1.2.0",
            "_view_name": "LayoutView",
            "align_content": null,
            "align_items": null,
            "align_self": null,
            "border": null,
            "bottom": null,
            "display": null,
            "flex": null,
            "flex_flow": null,
            "grid_area": null,
            "grid_auto_columns": null,
            "grid_auto_flow": null,
            "grid_auto_rows": null,
            "grid_column": null,
            "grid_gap": null,
            "grid_row": null,
            "grid_template_areas": null,
            "grid_template_columns": null,
            "grid_template_rows": null,
            "height": null,
            "justify_content": null,
            "justify_items": null,
            "left": null,
            "margin": null,
            "max_height": null,
            "max_width": null,
            "min_height": null,
            "min_width": null,
            "object_fit": null,
            "object_position": null,
            "order": null,
            "overflow": null,
            "overflow_x": null,
            "overflow_y": null,
            "padding": null,
            "right": null,
            "top": null,
            "visibility": null,
            "width": null
          }
        },
        "acdcbb0cd4f34b0a8a2782e3298cdd23": {
          "model_module": "@jupyter-widgets/controls",
          "model_name": "DescriptionStyleModel",
          "model_module_version": "1.5.0",
          "state": {
            "_model_module": "@jupyter-widgets/controls",
            "_model_module_version": "1.5.0",
            "_model_name": "DescriptionStyleModel",
            "_view_count": null,
            "_view_module": "@jupyter-widgets/base",
            "_view_module_version": "1.2.0",
            "_view_name": "StyleView",
            "description_width": ""
          }
        },
        "3892d20f845545dc95946ac96cccffc1": {
          "model_module": "@jupyter-widgets/controls",
          "model_name": "TextModel",
          "model_module_version": "1.5.0",
          "state": {
            "_dom_classes": [],
            "_model_module": "@jupyter-widgets/controls",
            "_model_module_version": "1.5.0",
            "_model_name": "TextModel",
            "_view_count": null,
            "_view_module": "@jupyter-widgets/controls",
            "_view_module_version": "1.5.0",
            "_view_name": "TextView",
            "continuous_update": true,
            "description": "Start Hour (HH:MM:SS)",
            "description_tooltip": null,
            "disabled": false,
            "layout": "IPY_MODEL_23e6afad897843a99af76dc8d3fd7157",
            "placeholder": "​",
            "style": "IPY_MODEL_1e61272ef02d4a809518d9deee1bd1da",
            "value": "00:00:00"
          }
        },
        "23e6afad897843a99af76dc8d3fd7157": {
          "model_module": "@jupyter-widgets/base",
          "model_name": "LayoutModel",
          "model_module_version": "1.2.0",
          "state": {
            "_model_module": "@jupyter-widgets/base",
            "_model_module_version": "1.2.0",
            "_model_name": "LayoutModel",
            "_view_count": null,
            "_view_module": "@jupyter-widgets/base",
            "_view_module_version": "1.2.0",
            "_view_name": "LayoutView",
            "align_content": null,
            "align_items": null,
            "align_self": null,
            "border": null,
            "bottom": null,
            "display": null,
            "flex": null,
            "flex_flow": null,
            "grid_area": null,
            "grid_auto_columns": null,
            "grid_auto_flow": null,
            "grid_auto_rows": null,
            "grid_column": null,
            "grid_gap": null,
            "grid_row": null,
            "grid_template_areas": null,
            "grid_template_columns": null,
            "grid_template_rows": null,
            "height": null,
            "justify_content": null,
            "justify_items": null,
            "left": null,
            "margin": null,
            "max_height": null,
            "max_width": null,
            "min_height": null,
            "min_width": null,
            "object_fit": null,
            "object_position": null,
            "order": null,
            "overflow": null,
            "overflow_x": null,
            "overflow_y": null,
            "padding": null,
            "right": null,
            "top": null,
            "visibility": null,
            "width": null
          }
        },
        "1e61272ef02d4a809518d9deee1bd1da": {
          "model_module": "@jupyter-widgets/controls",
          "model_name": "DescriptionStyleModel",
          "model_module_version": "1.5.0",
          "state": {
            "_model_module": "@jupyter-widgets/controls",
            "_model_module_version": "1.5.0",
            "_model_name": "DescriptionStyleModel",
            "_view_count": null,
            "_view_module": "@jupyter-widgets/base",
            "_view_module_version": "1.2.0",
            "_view_name": "StyleView",
            "description_width": ""
          }
        },
        "d479728881f842b2b695393fa481394b": {
          "model_module": "@jupyter-widgets/controls",
          "model_name": "DatePickerModel",
          "model_module_version": "1.5.0",
          "state": {
            "_dom_classes": [],
            "_model_module": "@jupyter-widgets/controls",
            "_model_module_version": "1.5.0",
            "_model_name": "DatePickerModel",
            "_view_count": null,
            "_view_module": "@jupyter-widgets/controls",
            "_view_module_version": "1.5.0",
            "_view_name": "DatePickerView",
            "description": "End Date",
            "description_tooltip": null,
            "disabled": false,
            "layout": "IPY_MODEL_54009e29861e4386830ec01f43058acb",
            "style": "IPY_MODEL_d513a4c4965e49f181970afd3ffd4dac",
            "value": null
          }
        },
        "54009e29861e4386830ec01f43058acb": {
          "model_module": "@jupyter-widgets/base",
          "model_name": "LayoutModel",
          "model_module_version": "1.2.0",
          "state": {
            "_model_module": "@jupyter-widgets/base",
            "_model_module_version": "1.2.0",
            "_model_name": "LayoutModel",
            "_view_count": null,
            "_view_module": "@jupyter-widgets/base",
            "_view_module_version": "1.2.0",
            "_view_name": "LayoutView",
            "align_content": null,
            "align_items": null,
            "align_self": null,
            "border": null,
            "bottom": null,
            "display": null,
            "flex": null,
            "flex_flow": null,
            "grid_area": null,
            "grid_auto_columns": null,
            "grid_auto_flow": null,
            "grid_auto_rows": null,
            "grid_column": null,
            "grid_gap": null,
            "grid_row": null,
            "grid_template_areas": null,
            "grid_template_columns": null,
            "grid_template_rows": null,
            "height": null,
            "justify_content": null,
            "justify_items": null,
            "left": null,
            "margin": null,
            "max_height": null,
            "max_width": null,
            "min_height": null,
            "min_width": null,
            "object_fit": null,
            "object_position": null,
            "order": null,
            "overflow": null,
            "overflow_x": null,
            "overflow_y": null,
            "padding": null,
            "right": null,
            "top": null,
            "visibility": null,
            "width": null
          }
        },
        "d513a4c4965e49f181970afd3ffd4dac": {
          "model_module": "@jupyter-widgets/controls",
          "model_name": "DescriptionStyleModel",
          "model_module_version": "1.5.0",
          "state": {
            "_model_module": "@jupyter-widgets/controls",
            "_model_module_version": "1.5.0",
            "_model_name": "DescriptionStyleModel",
            "_view_count": null,
            "_view_module": "@jupyter-widgets/base",
            "_view_module_version": "1.2.0",
            "_view_name": "StyleView",
            "description_width": ""
          }
        },
        "309ae4adddb849618149bf76caa680e7": {
          "model_module": "@jupyter-widgets/controls",
          "model_name": "TextModel",
          "model_module_version": "1.5.0",
          "state": {
            "_dom_classes": [],
            "_model_module": "@jupyter-widgets/controls",
            "_model_module_version": "1.5.0",
            "_model_name": "TextModel",
            "_view_count": null,
            "_view_module": "@jupyter-widgets/controls",
            "_view_module_version": "1.5.0",
            "_view_name": "TextView",
            "continuous_update": true,
            "description": "End Hour (HH:MM:SS)",
            "description_tooltip": null,
            "disabled": false,
            "layout": "IPY_MODEL_1c1895075a834eabafd941fcba317e84",
            "placeholder": "​",
            "style": "IPY_MODEL_ab8b31d5cdb24256922faf5cee714bd9",
            "value": "23:59:59"
          }
        },
        "1c1895075a834eabafd941fcba317e84": {
          "model_module": "@jupyter-widgets/base",
          "model_name": "LayoutModel",
          "model_module_version": "1.2.0",
          "state": {
            "_model_module": "@jupyter-widgets/base",
            "_model_module_version": "1.2.0",
            "_model_name": "LayoutModel",
            "_view_count": null,
            "_view_module": "@jupyter-widgets/base",
            "_view_module_version": "1.2.0",
            "_view_name": "LayoutView",
            "align_content": null,
            "align_items": null,
            "align_self": null,
            "border": null,
            "bottom": null,
            "display": null,
            "flex": null,
            "flex_flow": null,
            "grid_area": null,
            "grid_auto_columns": null,
            "grid_auto_flow": null,
            "grid_auto_rows": null,
            "grid_column": null,
            "grid_gap": null,
            "grid_row": null,
            "grid_template_areas": null,
            "grid_template_columns": null,
            "grid_template_rows": null,
            "height": null,
            "justify_content": null,
            "justify_items": null,
            "left": null,
            "margin": null,
            "max_height": null,
            "max_width": null,
            "min_height": null,
            "min_width": null,
            "object_fit": null,
            "object_position": null,
            "order": null,
            "overflow": null,
            "overflow_x": null,
            "overflow_y": null,
            "padding": null,
            "right": null,
            "top": null,
            "visibility": null,
            "width": null
          }
        },
        "ab8b31d5cdb24256922faf5cee714bd9": {
          "model_module": "@jupyter-widgets/controls",
          "model_name": "DescriptionStyleModel",
          "model_module_version": "1.5.0",
          "state": {
            "_model_module": "@jupyter-widgets/controls",
            "_model_module_version": "1.5.0",
            "_model_name": "DescriptionStyleModel",
            "_view_count": null,
            "_view_module": "@jupyter-widgets/base",
            "_view_module_version": "1.2.0",
            "_view_name": "StyleView",
            "description_width": ""
          }
        },
        "08b5d9b336844bd1adfe45cea1ba070d": {
          "model_module": "@jupyter-widgets/controls",
          "model_name": "DropdownModel",
          "model_module_version": "1.5.0",
          "state": {
            "_dom_classes": [],
            "_model_module": "@jupyter-widgets/controls",
            "_model_module_version": "1.5.0",
            "_model_name": "DropdownModel",
            "_options_labels": [
              "temperature (ºC)",
              "air humidity (%)",
              "light (lux)",
              "water (%)",
              "ec (µS)",
              "battery (%)"
            ],
            "_view_count": null,
            "_view_module": "@jupyter-widgets/controls",
            "_view_module_version": "1.5.0",
            "_view_name": "DropdownView",
            "description": "Select Column:",
            "description_tooltip": null,
            "disabled": false,
            "index": 0,
            "layout": "IPY_MODEL_2da933909e324ea0865f59f6f7f61666",
            "style": "IPY_MODEL_8eeef604e7284965b47d2c9549da0539"
          }
        },
        "2da933909e324ea0865f59f6f7f61666": {
          "model_module": "@jupyter-widgets/base",
          "model_name": "LayoutModel",
          "model_module_version": "1.2.0",
          "state": {
            "_model_module": "@jupyter-widgets/base",
            "_model_module_version": "1.2.0",
            "_model_name": "LayoutModel",
            "_view_count": null,
            "_view_module": "@jupyter-widgets/base",
            "_view_module_version": "1.2.0",
            "_view_name": "LayoutView",
            "align_content": null,
            "align_items": null,
            "align_self": null,
            "border": null,
            "bottom": null,
            "display": null,
            "flex": null,
            "flex_flow": null,
            "grid_area": null,
            "grid_auto_columns": null,
            "grid_auto_flow": null,
            "grid_auto_rows": null,
            "grid_column": null,
            "grid_gap": null,
            "grid_row": null,
            "grid_template_areas": null,
            "grid_template_columns": null,
            "grid_template_rows": null,
            "height": null,
            "justify_content": null,
            "justify_items": null,
            "left": null,
            "margin": null,
            "max_height": null,
            "max_width": null,
            "min_height": null,
            "min_width": null,
            "object_fit": null,
            "object_position": null,
            "order": null,
            "overflow": null,
            "overflow_x": null,
            "overflow_y": null,
            "padding": null,
            "right": null,
            "top": null,
            "visibility": null,
            "width": null
          }
        },
        "8eeef604e7284965b47d2c9549da0539": {
          "model_module": "@jupyter-widgets/controls",
          "model_name": "DescriptionStyleModel",
          "model_module_version": "1.5.0",
          "state": {
            "_model_module": "@jupyter-widgets/controls",
            "_model_module_version": "1.5.0",
            "_model_name": "DescriptionStyleModel",
            "_view_count": null,
            "_view_module": "@jupyter-widgets/base",
            "_view_module_version": "1.2.0",
            "_view_name": "StyleView",
            "description_width": ""
          }
        },
        "4af1ae45382548779520e093bf8dbd36": {
          "model_module": "@jupyter-widgets/controls",
          "model_name": "ButtonModel",
          "model_module_version": "1.5.0",
          "state": {
            "_dom_classes": [],
            "_model_module": "@jupyter-widgets/controls",
            "_model_module_version": "1.5.0",
            "_model_name": "ButtonModel",
            "_view_count": null,
            "_view_module": "@jupyter-widgets/controls",
            "_view_module_version": "1.5.0",
            "_view_name": "ButtonView",
            "button_style": "",
            "description": "Generate Graphic",
            "disabled": false,
            "icon": "",
            "layout": "IPY_MODEL_36b81865076e4bb6b0963d5f71d1fc64",
            "style": "IPY_MODEL_fc792cf8893b428da6585fc78956e8bd",
            "tooltip": ""
          }
        },
        "36b81865076e4bb6b0963d5f71d1fc64": {
          "model_module": "@jupyter-widgets/base",
          "model_name": "LayoutModel",
          "model_module_version": "1.2.0",
          "state": {
            "_model_module": "@jupyter-widgets/base",
            "_model_module_version": "1.2.0",
            "_model_name": "LayoutModel",
            "_view_count": null,
            "_view_module": "@jupyter-widgets/base",
            "_view_module_version": "1.2.0",
            "_view_name": "LayoutView",
            "align_content": null,
            "align_items": null,
            "align_self": null,
            "border": null,
            "bottom": null,
            "display": null,
            "flex": null,
            "flex_flow": null,
            "grid_area": null,
            "grid_auto_columns": null,
            "grid_auto_flow": null,
            "grid_auto_rows": null,
            "grid_column": null,
            "grid_gap": null,
            "grid_row": null,
            "grid_template_areas": null,
            "grid_template_columns": null,
            "grid_template_rows": null,
            "height": null,
            "justify_content": null,
            "justify_items": null,
            "left": null,
            "margin": null,
            "max_height": null,
            "max_width": null,
            "min_height": null,
            "min_width": null,
            "object_fit": null,
            "object_position": null,
            "order": null,
            "overflow": null,
            "overflow_x": null,
            "overflow_y": null,
            "padding": null,
            "right": null,
            "top": null,
            "visibility": null,
            "width": null
          }
        },
        "fc792cf8893b428da6585fc78956e8bd": {
          "model_module": "@jupyter-widgets/controls",
          "model_name": "ButtonStyleModel",
          "model_module_version": "1.5.0",
          "state": {
            "_model_module": "@jupyter-widgets/controls",
            "_model_module_version": "1.5.0",
            "_model_name": "ButtonStyleModel",
            "_view_count": null,
            "_view_module": "@jupyter-widgets/base",
            "_view_module_version": "1.2.0",
            "_view_name": "StyleView",
            "button_color": null,
            "font_weight": ""
          }
        }
      }
    }
  },
  "cells": [
    {
      "cell_type": "markdown",
      "metadata": {
        "id": "view-in-github",
        "colab_type": "text"
      },
      "source": [
        "<a href=\"https://colab.research.google.com/github/JoshuaPicado/Agrovoltaic1/blob/main/Agrovoltaic.ipynb\" target=\"_parent\"><img src=\"https://colab.research.google.com/assets/colab-badge.svg\" alt=\"Open In Colab\"/></a>"
      ]
    },
    {
      "cell_type": "markdown",
      "source": [
        "\n",
        "# Agrovoltaic\n",
        "\n",
        "Dr. Abel Méndez Porras\n",
        "\n",
        "Estudiante: Joshua Picado\n"
      ],
      "metadata": {
        "id": "x4fLw43jrtPw"
      }
    },
    {
      "cell_type": "markdown",
      "source": [
        "# importación de las bibliotecas"
      ],
      "metadata": {
        "id": "9JGOibtJ896q"
      }
    },
    {
      "cell_type": "code",
      "execution_count": null,
      "metadata": {
        "id": "1qINn0_x8q1w"
      },
      "outputs": [],
      "source": [
        "#Este módulo proporciona funcionalidades para montar Google Drive en el entorno de Colab.\n",
        "from google.colab import drive\n",
        "\n",
        "#Este módulo proporciona funcionalidades para interactuar con archivos en el entorno de Colab.\n",
        "from google.colab import files\n",
        "\n",
        "#Este módulo mostrará una tabla interactiva con los datos del DataFrame en el entorno de Google Colab.\n",
        "from google.colab import data_table\n",
        "\n",
        "#Se utiliza para trazar un gráfico de cuantiles-cuantiles (QQ plot), que es una herramienta\n",
        "#gráfica para comparar la distribución de una muestra de datos con una distribución teórica\n",
        "#o con otra muestra de datos.\n",
        "from statsmodels.graphics.gofplots import qqplot\n",
        "\n",
        "#Pangas se utiliza principalmente para el análisis y manipulación de datos tabulares.\n",
        "import pandas as pd\n",
        "\n",
        "#Seaborn es una biblioteca de visualización de datos en Python basada en Matplotlib,\n",
        "#que proporciona una interfaz de alto nivel para crear gráficos atractivos y informativos.\n",
        "import seaborn as sns\n",
        "\n",
        "#Proporciona una interfaz para interactuar con el sistema operativo.\n",
        "#trabajar con rutas de archivos y directorios\n",
        "import os\n",
        "\n",
        "#Realiza cálculos matemáticos y operaciones con arrays de forma eficiente.\n",
        "import numpy as np\n",
        "\n",
        "#Biblioteca que sirve para la interraccion mediante interfaz\n",
        "import ipywidgets as widgets\n",
        "\n",
        "#datetime permite realizar operaciones con el manejo del tiempo\n",
        "from datetime import datetime\n",
        "\n",
        "#Biblioteca para manejar la interfaz con botones\n",
        "from IPython.display import display\n",
        "\n",
        "# Importar Matplotlib y asignarle el alias \"plt\"\n",
        "#Matplotlib es una biblioteca de visualización de datos en Python que proporciona una API similar\n",
        "#a la de MATLAB para crear gráficos de alta calidad.\n",
        "import matplotlib.pyplot as plt\n",
        "\n",
        "# Importar Plotly\n",
        "import plotly.express as px\n",
        "import plotly.graph_objects as go\n",
        "\n",
        "# Configuración adicional para mejorar la estética de las visualizaciones\n",
        "sns.set(style=\"whitegrid\")  # Configurar estilo Seaborn\n",
        "\n",
        "#Si los datos en el eje x son fechas, puedes formatearlas para que sean más legibles\n",
        "#import matplotlib.dates as mdates"
      ]
    },
    {
      "cell_type": "markdown",
      "source": [
        "#ACESSO A GOOGLE DRIVE\n",
        "Permite el acceso a los documetos de google drive para su lectura"
      ],
      "metadata": {
        "id": "spMACTQ6euat"
      }
    },
    {
      "cell_type": "code",
      "source": [
        "#Metodo que llama al google drive\n",
        "drive.mount('/content/drive')"
      ],
      "metadata": {
        "id": "tgs1mLsKexnV",
        "colab": {
          "base_uri": "https://localhost:8080/"
        },
        "outputId": "5dd9fbae-c1e5-4726-d7af-dd197825844e"
      },
      "execution_count": null,
      "outputs": [
        {
          "output_type": "stream",
          "name": "stdout",
          "text": [
            "Mounted at /content/drive\n"
          ]
        }
      ]
    },
    {
      "cell_type": "markdown",
      "source": [
        "#Lectura del archivo Excel con todos los datos\n",
        "Metodo para confirmar que el archivo fue leído exitosamente"
      ],
      "metadata": {
        "id": "i5gbJL3ffOKF"
      }
    },
    {
      "cell_type": "code",
      "source": [
        "# Ruta al archivo CSV en Google Drive\n",
        "ruta_archivo = \"/content/drive/MyDrive/Colab Notebooks/Investigación 2024/Agrovoltaic/Data/data_7057_1713819688093-panel horizontal exterior-sin procesar.csv\"\n",
        "\n",
        "# Leer el archivo CSV\n",
        "try:\n",
        "    df = pd.read_csv(ruta_archivo, sep=',')\n",
        "    print(\"Archivo CSV leído correctamente.\")\n",
        "except FileNotFoundError:\n",
        "    print(f\"Error: El archivo no se encuentra en la ruta especificada: {ruta_archivo}\")\n",
        "except Exception as e:\n",
        "    print(f\"Ocurrió un error al leer el archivo CSV: {e}\")\n"
      ],
      "metadata": {
        "id": "89_uDqtYfWgP",
        "colab": {
          "base_uri": "https://localhost:8080/"
        },
        "outputId": "5db0dbe0-570c-4d67-93a4-e260dab5aa1b"
      },
      "execution_count": null,
      "outputs": [
        {
          "output_type": "stream",
          "name": "stdout",
          "text": [
            "Archivo CSV leído correctamente.\n"
          ]
        }
      ]
    },
    {
      "cell_type": "markdown",
      "source": [
        "#Graficos de control\n",
        "Seccion que permite graficar los parametros del archivo"
      ],
      "metadata": {
        "id": "lJKKvXmyfjnu"
      }
    },
    {
      "cell_type": "code",
      "source": [
        "# Función para combinar fecha y hora\n",
        "def combinar_fecha_hora(date, time):\n",
        "    try:\n",
        "        return datetime.strptime(f\"{time} {date.strftime('%d/%m/%Y')}\", '%H:%M:%S %d/%m/%Y')\n",
        "    except Exception as e:\n",
        "        print(f\"Error in date/time format: {e}\")\n",
        "        return None\n",
        "\n",
        "# Función para filtrar los datos y graficar\n",
        "def plot_control_chart(ruta_archivo, start_datetime, end_datetime, column_to_plot, factor=3, title=\"Control Chart\", xlabel=\"Index\", ylabel=\"Value\", figsize=(12, 6), save_path=\"/content/drive/MyDrive/Colab Notebooks/Investigación 2024/Graficos\"):\n",
        "    # Cargar el archivo CSV\n",
        "    df = pd.read_csv(ruta_archivo)\n",
        "\n",
        "    # Convertir la columna 0 (fechas y horas) a formato datetime\n",
        "    df[df.columns[0]] = pd.to_datetime(df[df.columns[0]], format='%H:%M:%S %d/%m/%Y')\n",
        "\n",
        "    # Filtrar los datos por el rango de fechas\n",
        "    df = df[(df[df.columns[0]] >= start_datetime) & (df[df.columns[0]] <= end_datetime)]\n",
        "\n",
        "    # Revisar si hay datos después de filtrar\n",
        "    if df.empty:\n",
        "        print(\"There is no data in the selected range.\")\n",
        "        return\n",
        "\n",
        "    # Extraer las columnas para graficar\n",
        "    name_x = df.columns[0]  # columna de fechas\n",
        "    name_y = column_to_plot  # columna seleccionada por el usuario\n",
        "    x = df[name_x].copy()\n",
        "    y = df[name_y].copy()\n",
        "\n",
        "    # Calcular la media y la desviación estándar\n",
        "    mean = y.mean()\n",
        "    std_dev = y.std()\n",
        "\n",
        "    # Calcular los límites de control\n",
        "    UCL = mean + factor * std_dev\n",
        "    LCL = mean - factor * std_dev\n",
        "\n",
        "    # Comprobar puntos fuera de control\n",
        "    out_of_control = y[(y > UCL) | (y < LCL)]\n",
        "\n",
        "    # Graficar\n",
        "    plt.figure(figsize=figsize)\n",
        "    plt.plot(x, y, 'bo-', label='Data')\n",
        "    plt.axhline(y=mean, color='r', linestyle='--', label='Mean')\n",
        "    plt.axhline(y=UCL, color='g', linestyle='--', label='UCL')\n",
        "    plt.axhline(y=LCL, color='g', linestyle='--', label='LCL')\n",
        "\n",
        "    # Resaltar puntos fuera de control\n",
        "    if not out_of_control.empty:\n",
        "        plt.plot(x[out_of_control.index], y[out_of_control.index], 'ro', label='Out of Control')\n",
        "        for i in out_of_control.index:\n",
        "            plt.text(x[i], y[i], f'{y[i]:.2f}', color='red', fontsize=9, ha='right')\n",
        "\n",
        "    plt.xlabel(f\"{xlabel} (hours)\")\n",
        "    plt.xticks(rotation=45, ha='right')\n",
        "    plt.ylabel(name_y)\n",
        "    plt.title(title + \": \" + name_y)\n",
        "    plt.legend()\n",
        "    plt.grid(True)\n",
        "\n",
        "    # Crear directorio si no existe\n",
        "    os.makedirs(save_path, exist_ok=True)\n",
        "    file_path = os.path.join(save_path, f\"{title.replace(' ', '_')}_{column_to_plot}.png\")\n",
        "\n",
        "    # Guardar el gráfico\n",
        "    plt.savefig(file_path, dpi=300, bbox_inches='tight')\n",
        "    print(f\"Graphic saved at: {file_path}\")\n",
        "\n",
        "    # Mostrar el gráfico\n",
        "    plt.show()\n",
        "\n",
        "    # Alerta para puntos fuera de control\n",
        "    if not out_of_control.empty:\n",
        "        print(\"Alert: Out-of-control points detected at the following indices and values:\")\n",
        "        print(out_of_control)\n",
        "\n",
        "# Widgets para seleccionar fecha, hora y columna\n",
        "date_start = widgets.DatePicker(description='Start Date')\n",
        "time_start = widgets.Text(description='Start Hour (HH:MM:SS)', value='00:00:00')\n",
        "date_end = widgets.DatePicker(description='End Date')\n",
        "time_end = widgets.Text(description='End Hour (HH:MM:SS)', value='23:59:59')\n",
        "\n",
        "# Ruta del archivo CSV\n",
        "ruta_archivo = \"/content/drive/MyDrive/Colab Notebooks/Investigación 2024/Agrovoltaic/Data/data_7057_1713819688093-panel horizontal exterior-sin procesar.csv\"\n",
        "df = pd.read_csv(ruta_archivo)\n",
        "column_selector = widgets.Dropdown(options=df.columns[1:], description=\"Select Column:\")\n",
        "\n",
        "# Función que será ejecutada al hacer clic en el botón\n",
        "def ejecutar_grafico(b):\n",
        "    start_datetime = combinar_fecha_hora(date_start.value, time_start.value)\n",
        "    end_datetime = combinar_fecha_hora(date_end.value, time_end.value)\n",
        "    column_to_plot = column_selector.value\n",
        "\n",
        "    if start_datetime and end_datetime and column_to_plot:\n",
        "        save_path = \"/content/drive/MyDrive/Colab Notebooks/Investigación 2024/Graficos\"  # Ruta para guardar gráficos\n",
        "        plot_control_chart(ruta_archivo, start_datetime, end_datetime, column_to_plot, save_path=save_path)\n",
        "\n",
        "# Botón para generar el gráfico\n",
        "boton = widgets.Button(description=\"Generate Graphic\")\n",
        "boton.on_click(ejecutar_grafico)\n",
        "\n",
        "# Mostrar widgets y botón\n",
        "display(date_start, time_start, date_end, time_end, column_selector, boton)\n"
      ],
      "metadata": {
        "id": "ODxioeVnj4rZ",
        "colab": {
          "base_uri": "https://localhost:8080/",
          "height": 201,
          "referenced_widgets": [
            "e718ebc4214744a093cd40834bea2db3",
            "ae5a4c1a41f240ffa5c6434eb76514b3",
            "acdcbb0cd4f34b0a8a2782e3298cdd23",
            "3892d20f845545dc95946ac96cccffc1",
            "23e6afad897843a99af76dc8d3fd7157",
            "1e61272ef02d4a809518d9deee1bd1da",
            "d479728881f842b2b695393fa481394b",
            "54009e29861e4386830ec01f43058acb",
            "d513a4c4965e49f181970afd3ffd4dac",
            "309ae4adddb849618149bf76caa680e7",
            "1c1895075a834eabafd941fcba317e84",
            "ab8b31d5cdb24256922faf5cee714bd9",
            "08b5d9b336844bd1adfe45cea1ba070d",
            "2da933909e324ea0865f59f6f7f61666",
            "8eeef604e7284965b47d2c9549da0539",
            "4af1ae45382548779520e093bf8dbd36",
            "36b81865076e4bb6b0963d5f71d1fc64",
            "fc792cf8893b428da6585fc78956e8bd"
          ]
        },
        "outputId": "ace6589c-d3f5-4372-d63a-df2959fe25f6"
      },
      "execution_count": null,
      "outputs": [
        {
          "output_type": "display_data",
          "data": {
            "text/plain": [
              "DatePicker(value=None, description='Start Date')"
            ],
            "application/vnd.jupyter.widget-view+json": {
              "version_major": 2,
              "version_minor": 0,
              "model_id": "e718ebc4214744a093cd40834bea2db3"
            }
          },
          "metadata": {}
        },
        {
          "output_type": "display_data",
          "data": {
            "text/plain": [
              "Text(value='00:00:00', description='Start Hour (HH:MM:SS)')"
            ],
            "application/vnd.jupyter.widget-view+json": {
              "version_major": 2,
              "version_minor": 0,
              "model_id": "3892d20f845545dc95946ac96cccffc1"
            }
          },
          "metadata": {}
        },
        {
          "output_type": "display_data",
          "data": {
            "text/plain": [
              "DatePicker(value=None, description='End Date')"
            ],
            "application/vnd.jupyter.widget-view+json": {
              "version_major": 2,
              "version_minor": 0,
              "model_id": "d479728881f842b2b695393fa481394b"
            }
          },
          "metadata": {}
        },
        {
          "output_type": "display_data",
          "data": {
            "text/plain": [
              "Text(value='23:59:59', description='End Hour (HH:MM:SS)')"
            ],
            "application/vnd.jupyter.widget-view+json": {
              "version_major": 2,
              "version_minor": 0,
              "model_id": "309ae4adddb849618149bf76caa680e7"
            }
          },
          "metadata": {}
        },
        {
          "output_type": "display_data",
          "data": {
            "text/plain": [
              "Dropdown(description='Select Column:', options=('temperature (ºC)', 'air humidity (%)', 'light (lux)', 'water …"
            ],
            "application/vnd.jupyter.widget-view+json": {
              "version_major": 2,
              "version_minor": 0,
              "model_id": "08b5d9b336844bd1adfe45cea1ba070d"
            }
          },
          "metadata": {}
        },
        {
          "output_type": "display_data",
          "data": {
            "text/plain": [
              "Button(description='Generate Graphic', style=ButtonStyle())"
            ],
            "application/vnd.jupyter.widget-view+json": {
              "version_major": 2,
              "version_minor": 0,
              "model_id": "4af1ae45382548779520e093bf8dbd36"
            }
          },
          "metadata": {}
        }
      ]
    },
    {
      "cell_type": "markdown",
      "source": [
        "# Funcion que permite subir varios archivos\n",
        "Pregunta si se quiere traslapar o no la informacion"
      ],
      "metadata": {
        "id": "6JJlQMEUnVkV"
      }
    },
    {
      "cell_type": "code",
      "source": [
        "# Cargar varios archivos desde el sistema local\n",
        "uploaded = files.upload()\n",
        "\n",
        "# Lista para almacenar DataFrames\n",
        "dataframes = []\n",
        "\n",
        "# Preguntar si se quiere traslapar la información\n",
        "traslapar = input(\"¿Deseas que se traslape la información? (si/no): \").strip().lower()\n",
        "\n",
        "# Procesar cada archivo cargado\n",
        "for fn in uploaded.keys():\n",
        "    print(f'Archivo cargado: \"{fn}\" con longitud {len(uploaded[fn])} bytes')\n",
        "\n",
        "    # Leer el archivo CSV en un DataFrame\n",
        "    df = pd.read_csv(fn, delimiter=\",\")\n",
        "    dataframes.append(df)\n",
        "\n",
        "# Fusionar los archivos si es necesario\n",
        "if traslapar == \"si\":\n",
        "    # Concatenar DataFrames permitiendo duplicados\n",
        "    df_final = pd.concat(dataframes, ignore_index=True)\n",
        "    print(\"Archivos traslapados (concatenados).\")\n",
        "else:\n",
        "    # Concatenar sin duplicados (por filas únicas)\n",
        "    df_final = pd.concat(dataframes, ignore_index=True).drop_duplicates()\n",
        "    print(\"Archivos combinados sin traslapar información (sin duplicados).\")\n",
        "\n",
        "# Mostrar las primeras filas del DataFrame final\n",
        "print(\"Resultado final:\")\n",
        "print(df_final.head())\n"
      ],
      "metadata": {
        "id": "LRyx0jJDndfF",
        "outputId": "6927cac0-ac01-40c7-b6e4-fee77f2565da",
        "colab": {
          "base_uri": "https://localhost:8080/",
          "height": 368
        }
      },
      "execution_count": null,
      "outputs": [
        {
          "output_type": "display_data",
          "data": {
            "text/plain": [
              "<IPython.core.display.HTML object>"
            ],
            "text/html": [
              "\n",
              "     <input type=\"file\" id=\"files-8e65e161-5ad2-4053-a956-20e468205918\" name=\"files[]\" multiple disabled\n",
              "        style=\"border:none\" />\n",
              "     <output id=\"result-8e65e161-5ad2-4053-a956-20e468205918\">\n",
              "      Upload widget is only available when the cell has been executed in the\n",
              "      current browser session. Please rerun this cell to enable.\n",
              "      </output>\n",
              "      <script>// Copyright 2017 Google LLC\n",
              "//\n",
              "// Licensed under the Apache License, Version 2.0 (the \"License\");\n",
              "// you may not use this file except in compliance with the License.\n",
              "// You may obtain a copy of the License at\n",
              "//\n",
              "//      http://www.apache.org/licenses/LICENSE-2.0\n",
              "//\n",
              "// Unless required by applicable law or agreed to in writing, software\n",
              "// distributed under the License is distributed on an \"AS IS\" BASIS,\n",
              "// WITHOUT WARRANTIES OR CONDITIONS OF ANY KIND, either express or implied.\n",
              "// See the License for the specific language governing permissions and\n",
              "// limitations under the License.\n",
              "\n",
              "/**\n",
              " * @fileoverview Helpers for google.colab Python module.\n",
              " */\n",
              "(function(scope) {\n",
              "function span(text, styleAttributes = {}) {\n",
              "  const element = document.createElement('span');\n",
              "  element.textContent = text;\n",
              "  for (const key of Object.keys(styleAttributes)) {\n",
              "    element.style[key] = styleAttributes[key];\n",
              "  }\n",
              "  return element;\n",
              "}\n",
              "\n",
              "// Max number of bytes which will be uploaded at a time.\n",
              "const MAX_PAYLOAD_SIZE = 100 * 1024;\n",
              "\n",
              "function _uploadFiles(inputId, outputId) {\n",
              "  const steps = uploadFilesStep(inputId, outputId);\n",
              "  const outputElement = document.getElementById(outputId);\n",
              "  // Cache steps on the outputElement to make it available for the next call\n",
              "  // to uploadFilesContinue from Python.\n",
              "  outputElement.steps = steps;\n",
              "\n",
              "  return _uploadFilesContinue(outputId);\n",
              "}\n",
              "\n",
              "// This is roughly an async generator (not supported in the browser yet),\n",
              "// where there are multiple asynchronous steps and the Python side is going\n",
              "// to poll for completion of each step.\n",
              "// This uses a Promise to block the python side on completion of each step,\n",
              "// then passes the result of the previous step as the input to the next step.\n",
              "function _uploadFilesContinue(outputId) {\n",
              "  const outputElement = document.getElementById(outputId);\n",
              "  const steps = outputElement.steps;\n",
              "\n",
              "  const next = steps.next(outputElement.lastPromiseValue);\n",
              "  return Promise.resolve(next.value.promise).then((value) => {\n",
              "    // Cache the last promise value to make it available to the next\n",
              "    // step of the generator.\n",
              "    outputElement.lastPromiseValue = value;\n",
              "    return next.value.response;\n",
              "  });\n",
              "}\n",
              "\n",
              "/**\n",
              " * Generator function which is called between each async step of the upload\n",
              " * process.\n",
              " * @param {string} inputId Element ID of the input file picker element.\n",
              " * @param {string} outputId Element ID of the output display.\n",
              " * @return {!Iterable<!Object>} Iterable of next steps.\n",
              " */\n",
              "function* uploadFilesStep(inputId, outputId) {\n",
              "  const inputElement = document.getElementById(inputId);\n",
              "  inputElement.disabled = false;\n",
              "\n",
              "  const outputElement = document.getElementById(outputId);\n",
              "  outputElement.innerHTML = '';\n",
              "\n",
              "  const pickedPromise = new Promise((resolve) => {\n",
              "    inputElement.addEventListener('change', (e) => {\n",
              "      resolve(e.target.files);\n",
              "    });\n",
              "  });\n",
              "\n",
              "  const cancel = document.createElement('button');\n",
              "  inputElement.parentElement.appendChild(cancel);\n",
              "  cancel.textContent = 'Cancel upload';\n",
              "  const cancelPromise = new Promise((resolve) => {\n",
              "    cancel.onclick = () => {\n",
              "      resolve(null);\n",
              "    };\n",
              "  });\n",
              "\n",
              "  // Wait for the user to pick the files.\n",
              "  const files = yield {\n",
              "    promise: Promise.race([pickedPromise, cancelPromise]),\n",
              "    response: {\n",
              "      action: 'starting',\n",
              "    }\n",
              "  };\n",
              "\n",
              "  cancel.remove();\n",
              "\n",
              "  // Disable the input element since further picks are not allowed.\n",
              "  inputElement.disabled = true;\n",
              "\n",
              "  if (!files) {\n",
              "    return {\n",
              "      response: {\n",
              "        action: 'complete',\n",
              "      }\n",
              "    };\n",
              "  }\n",
              "\n",
              "  for (const file of files) {\n",
              "    const li = document.createElement('li');\n",
              "    li.append(span(file.name, {fontWeight: 'bold'}));\n",
              "    li.append(span(\n",
              "        `(${file.type || 'n/a'}) - ${file.size} bytes, ` +\n",
              "        `last modified: ${\n",
              "            file.lastModifiedDate ? file.lastModifiedDate.toLocaleDateString() :\n",
              "                                    'n/a'} - `));\n",
              "    const percent = span('0% done');\n",
              "    li.appendChild(percent);\n",
              "\n",
              "    outputElement.appendChild(li);\n",
              "\n",
              "    const fileDataPromise = new Promise((resolve) => {\n",
              "      const reader = new FileReader();\n",
              "      reader.onload = (e) => {\n",
              "        resolve(e.target.result);\n",
              "      };\n",
              "      reader.readAsArrayBuffer(file);\n",
              "    });\n",
              "    // Wait for the data to be ready.\n",
              "    let fileData = yield {\n",
              "      promise: fileDataPromise,\n",
              "      response: {\n",
              "        action: 'continue',\n",
              "      }\n",
              "    };\n",
              "\n",
              "    // Use a chunked sending to avoid message size limits. See b/62115660.\n",
              "    let position = 0;\n",
              "    do {\n",
              "      const length = Math.min(fileData.byteLength - position, MAX_PAYLOAD_SIZE);\n",
              "      const chunk = new Uint8Array(fileData, position, length);\n",
              "      position += length;\n",
              "\n",
              "      const base64 = btoa(String.fromCharCode.apply(null, chunk));\n",
              "      yield {\n",
              "        response: {\n",
              "          action: 'append',\n",
              "          file: file.name,\n",
              "          data: base64,\n",
              "        },\n",
              "      };\n",
              "\n",
              "      let percentDone = fileData.byteLength === 0 ?\n",
              "          100 :\n",
              "          Math.round((position / fileData.byteLength) * 100);\n",
              "      percent.textContent = `${percentDone}% done`;\n",
              "\n",
              "    } while (position < fileData.byteLength);\n",
              "  }\n",
              "\n",
              "  // All done.\n",
              "  yield {\n",
              "    response: {\n",
              "      action: 'complete',\n",
              "    }\n",
              "  };\n",
              "}\n",
              "\n",
              "scope.google = scope.google || {};\n",
              "scope.google.colab = scope.google.colab || {};\n",
              "scope.google.colab._files = {\n",
              "  _uploadFiles,\n",
              "  _uploadFilesContinue,\n",
              "};\n",
              "})(self);\n",
              "</script> "
            ]
          },
          "metadata": {}
        },
        {
          "output_type": "stream",
          "name": "stdout",
          "text": [
            "Saving data_7057_1713819688093-panel horizontal exterior-sin procesar1.csv to data_7057_1713819688093-panel horizontal exterior-sin procesar1 (1).csv\n",
            "¿Deseas que se traslape la información? (si/no): no\n",
            "Archivo cargado: \"data_7057_1713819688093-panel horizontal exterior-sin procesar1 (1).csv\" con longitud 32553 bytes\n",
            "Archivos combinados sin traslapar información (sin duplicados).\n",
            "Resultado final:\n",
            "        measure time  temperature (ºC)  air humidity (%)  light (lux)  \\\n",
            "0   8:27:4 28/3/2024              26.6              35.3            0   \n",
            "1   9:27:4 28/3/2024              25.6              35.9            0   \n",
            "2  10:27:4 28/3/2024              24.8              38.4            0   \n",
            "3  11:27:4 28/3/2024              25.1              39.7            0   \n",
            "4  12:27:4 28/3/2024              25.1              39.0           10   \n",
            "\n",
            "   water (%)    ec (µS)  battery (%)  \n",
            "0  29.523368  47.584940     87.04804  \n",
            "1  29.152178  47.247339     87.04804  \n",
            "2  29.236746  46.964704     87.04804  \n",
            "3  29.202933  46.683759     87.04804  \n",
            "4  28.948732  46.374806     87.04804  \n"
          ]
        }
      ]
    },
    {
      "cell_type": "markdown",
      "source": [
        "#Repositorio de github\n",
        "https://github.com/JoshuaPicado/Proyecto-agrovoltaic.git"
      ],
      "metadata": {
        "id": "R4pMQVrEganW"
      }
    }
  ]
}