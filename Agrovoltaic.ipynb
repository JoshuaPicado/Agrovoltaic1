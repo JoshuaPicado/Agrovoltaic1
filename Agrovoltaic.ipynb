{
  "nbformat": 4,
  "nbformat_minor": 0,
  "metadata": {
    "colab": {
      "provenance": [],
      "authorship_tag": "ABX9TyNsoAXPg0WlOo7Kl8908+Ov",
      "include_colab_link": true
    },
    "kernelspec": {
      "name": "python3",
      "display_name": "Python 3"
    },
    "language_info": {
      "name": "python"
    }
  },
  "cells": [
    {
      "cell_type": "markdown",
      "metadata": {
        "id": "view-in-github",
        "colab_type": "text"
      },
      "source": [
        "<a href=\"https://colab.research.google.com/github/JoshuaPicado/Agrovoltaic1/blob/main/Agrovoltaic.ipynb\" target=\"_parent\"><img src=\"https://colab.research.google.com/assets/colab-badge.svg\" alt=\"Open In Colab\"/></a>"
      ]
    },
    {
      "cell_type": "markdown",
      "source": [
        "\n",
        "# Agrovoltaic\n",
        "\n",
        "Dr. Abel Méndez Porras\n",
        "\n",
        "Estudiante: Joshua Picado\n"
      ],
      "metadata": {
        "id": "x4fLw43jrtPw"
      }
    },
    {
      "cell_type": "markdown",
      "source": [
        "# importación de las bibliotecas"
      ],
      "metadata": {
        "id": "9JGOibtJ896q"
      }
    },
    {
      "cell_type": "code",
      "execution_count": null,
      "metadata": {
        "id": "1qINn0_x8q1w"
      },
      "outputs": [],
      "source": [
        "#Este módulo proporciona funcionalidades para montar Google Drive en el entorno de Colab.\n",
        "from google.colab import drive\n",
        "\n",
        "#Este módulo proporciona funcionalidades para interactuar con archivos en el entorno de Colab.\n",
        "from google.colab import files\n",
        "\n",
        "#Este módulo mostrará una tabla interactiva con los datos del DataFrame en el entorno de Google Colab.\n",
        "from google.colab import data_table\n",
        "\n",
        "#Se utiliza para trazar un gráfico de cuantiles-cuantiles (QQ plot), que es una herramienta\n",
        "#gráfica para comparar la distribución de una muestra de datos con una distribución teórica\n",
        "#o con otra muestra de datos.\n",
        "from statsmodels.graphics.gofplots import qqplot\n",
        "\n",
        "#Pangas se utiliza principalmente para el análisis y manipulación de datos tabulares.\n",
        "import pandas as pd\n",
        "\n",
        "#Seaborn es una biblioteca de visualización de datos en Python basada en Matplotlib,\n",
        "#que proporciona una interfaz de alto nivel para crear gráficos atractivos y informativos.\n",
        "import seaborn as sns\n",
        "\n",
        "#Proporciona una interfaz para interactuar con el sistema operativo.\n",
        "#trabajar con rutas de archivos y directorios\n",
        "import os\n",
        "\n",
        "#Realiza cálculos matemáticos y operaciones con arrays de forma eficiente.\n",
        "import numpy as np\n",
        "\n",
        "#Biblioteca que sirve para la interraccion mediante interfaz\n",
        "import ipywidgets as widgets\n",
        "\n",
        "#datetime permite realizar operaciones con el manejo del tiempo\n",
        "from datetime import datetime\n",
        "\n",
        "#Biblioteca para manejar la interfaz con botones\n",
        "from IPython.display import display\n",
        "\n",
        "# Importar Matplotlib y asignarle el alias \"plt\"\n",
        "#Matplotlib es una biblioteca de visualización de datos en Python que proporciona una API similar\n",
        "#a la de MATLAB para crear gráficos de alta calidad.\n",
        "import matplotlib.pyplot as plt\n",
        "\n",
        "# Importar Plotly\n",
        "import plotly.express as px\n",
        "import plotly.graph_objects as go\n",
        "\n",
        "# Configuración adicional para mejorar la estética de las visualizaciones\n",
        "sns.set(style=\"whitegrid\")  # Configurar estilo Seaborn\n",
        "\n",
        "#Si los datos en el eje x son fechas, puedes formatearlas para que sean más legibles\n",
        "#import matplotlib.dates as mdates"
      ]
    },
    {
      "cell_type": "markdown",
      "source": [
        "#ACESSO A GOOGLE DRIVE\n",
        "Permite el acceso a los documetos de google drive para su lectura"
      ],
      "metadata": {
        "id": "spMACTQ6euat"
      }
    },
    {
      "cell_type": "code",
      "source": [
        "#Metodo que llama al google drive\n",
        "drive.mount('/content/drive')"
      ],
      "metadata": {
        "id": "tgs1mLsKexnV"
      },
      "execution_count": null,
      "outputs": []
    },
    {
      "cell_type": "markdown",
      "source": [
        "#Lectura del archivo Excel con todos los datos\n",
        "Metodo para confirmar que el archivo fue leído exitosamente"
      ],
      "metadata": {
        "id": "i5gbJL3ffOKF"
      }
    },
    {
      "cell_type": "code",
      "source": [
        "# Ruta al archivo CSV en Google Drive\n",
        "ruta_archivo = \"/content/drive/MyDrive/Colab Notebooks/Investigación 2024/Agrovoltaic/Data/data_7057_1713819688093-panel horizontal exterior-sin procesar.csv\"\n",
        "\n",
        "# Leer el archivo CSV\n",
        "try:\n",
        "    df = pd.read_csv(ruta_archivo, sep=',')\n",
        "    print(\"Archivo CSV leído correctamente.\")\n",
        "except FileNotFoundError:\n",
        "    print(f\"Error: El archivo no se encuentra en la ruta especificada: {ruta_archivo}\")\n",
        "except Exception as e:\n",
        "    print(f\"Ocurrió un error al leer el archivo CSV: {e}\")\n"
      ],
      "metadata": {
        "id": "89_uDqtYfWgP"
      },
      "execution_count": null,
      "outputs": []
    },
    {
      "cell_type": "markdown",
      "source": [
        "#Graficos de control\n",
        "Seccion que permite graficar los parametros del archivo"
      ],
      "metadata": {
        "id": "lJKKvXmyfjnu"
      }
    },
    {
      "cell_type": "code",
      "source": [
        "# Función para combinar fecha y hora\n",
        "def combinar_fecha_hora(date, time):\n",
        "    try:\n",
        "        return datetime.strptime(f\"{time} {date.strftime('%d/%m/%Y')}\", '%H:%M:%S %d/%m/%Y')\n",
        "    except Exception as e:\n",
        "        print(f\"Error in date/time format: {e}\")\n",
        "        return None\n",
        "\n",
        "# Función para filtrar los datos y graficar\n",
        "def plot_control_chart(ruta_archivo, start_datetime, end_datetime, column_to_plot, factor=3, title=\"Control Chart\", xlabel=\"Index\", ylabel=\"Value\", figsize=(12, 6), save_path=\"/content/drive/MyDrive/Colab Notebooks/Investigación 2024/Graficos\"):\n",
        "    # Cargar el archivo CSV\n",
        "    df = pd.read_csv(ruta_archivo)\n",
        "\n",
        "    # Convertir la columna 0 (fechas y horas) a formato datetime\n",
        "    df[df.columns[0]] = pd.to_datetime(df[df.columns[0]], format='%H:%M:%S %d/%m/%Y')\n",
        "\n",
        "    # Filtrar los datos por el rango de fechas\n",
        "    df = df[(df[df.columns[0]] >= start_datetime) & (df[df.columns[0]] <= end_datetime)]\n",
        "\n",
        "    # Revisar si hay datos después de filtrar\n",
        "    if df.empty:\n",
        "        print(\"There is no data in the selected range.\")\n",
        "        return\n",
        "\n",
        "    # Extraer las columnas para graficar\n",
        "    name_x = df.columns[0]  # columna de fechas\n",
        "    name_y = column_to_plot  # columna seleccionada por el usuario\n",
        "    x = df[name_x].copy()\n",
        "    y = df[name_y].copy()\n",
        "\n",
        "    # Calcular la media y la desviación estándar\n",
        "    mean = y.mean()\n",
        "    std_dev = y.std()\n",
        "\n",
        "    # Calcular los límites de control\n",
        "    UCL = mean + factor * std_dev\n",
        "    LCL = mean - factor * std_dev\n",
        "\n",
        "    # Comprobar puntos fuera de control\n",
        "    out_of_control = y[(y > UCL) | (y < LCL)]\n",
        "\n",
        "    # Graficar\n",
        "    plt.figure(figsize=figsize)\n",
        "    plt.plot(x, y, 'bo-', label='Data')\n",
        "    plt.axhline(y=mean, color='r', linestyle='--', label='Mean')\n",
        "    plt.axhline(y=UCL, color='g', linestyle='--', label='UCL')\n",
        "    plt.axhline(y=LCL, color='g', linestyle='--', label='LCL')\n",
        "\n",
        "    # Resaltar puntos fuera de control\n",
        "    if not out_of_control.empty:\n",
        "        plt.plot(x[out_of_control.index], y[out_of_control.index], 'ro', label='Out of Control')\n",
        "        for i in out_of_control.index:\n",
        "            plt.text(x[i], y[i], f'{y[i]:.2f}', color='red', fontsize=9, ha='right')\n",
        "\n",
        "    plt.xlabel(f\"{xlabel} (hours)\")\n",
        "    plt.xticks(rotation=45, ha='right')\n",
        "    plt.ylabel(name_y)\n",
        "    plt.title(title + \": \" + name_y)\n",
        "    plt.legend()\n",
        "    plt.grid(True)\n",
        "\n",
        "    # Crear directorio si no existe\n",
        "    os.makedirs(save_path, exist_ok=True)\n",
        "    file_path = os.path.join(save_path, f\"{title.replace(' ', '_')}_{column_to_plot}.png\")\n",
        "\n",
        "    # Guardar el gráfico\n",
        "    plt.savefig(file_path, dpi=300, bbox_inches='tight')\n",
        "    print(f\"Graphic saved at: {file_path}\")\n",
        "\n",
        "    # Mostrar el gráfico\n",
        "    plt.show()\n",
        "\n",
        "    # Alerta para puntos fuera de control\n",
        "    if not out_of_control.empty:\n",
        "        print(\"Alert: Out-of-control points detected at the following indices and values:\")\n",
        "        print(out_of_control)\n",
        "\n",
        "# Widgets para seleccionar fecha, hora y columna\n",
        "date_start = widgets.DatePicker(description='Start Date')\n",
        "time_start = widgets.Text(description='Start Hour (HH:MM:SS)', value='00:00:00')\n",
        "date_end = widgets.DatePicker(description='End Date')\n",
        "time_end = widgets.Text(description='End Hour (HH:MM:SS)', value='23:59:59')\n",
        "\n",
        "# Ruta del archivo CSV\n",
        "ruta_archivo = \"/content/drive/MyDrive/Colab Notebooks/Investigación 2024/Agrovoltaic/Data/data_7057_1713819688093-panel horizontal exterior-sin procesar.csv\"\n",
        "df = pd.read_csv(ruta_archivo)\n",
        "column_selector = widgets.Dropdown(options=df.columns[1:], description=\"Select Column:\")\n",
        "\n",
        "# Función que será ejecutada al hacer clic en el botón\n",
        "def ejecutar_grafico(b):\n",
        "    start_datetime = combinar_fecha_hora(date_start.value, time_start.value)\n",
        "    end_datetime = combinar_fecha_hora(date_end.value, time_end.value)\n",
        "    column_to_plot = column_selector.value\n",
        "\n",
        "    if start_datetime and end_datetime and column_to_plot:\n",
        "        save_path = \"/content/drive/MyDrive/Colab Notebooks/Investigación 2024/Graficos\"  # Ruta para guardar gráficos\n",
        "        plot_control_chart(ruta_archivo, start_datetime, end_datetime, column_to_plot, save_path=save_path)\n",
        "\n",
        "# Botón para generar el gráfico\n",
        "boton = widgets.Button(description=\"Generate Graphic\")\n",
        "boton.on_click(ejecutar_grafico)\n",
        "\n",
        "# Mostrar widgets y botón\n",
        "display(date_start, time_start, date_end, time_end, column_selector, boton)\n"
      ],
      "metadata": {
        "id": "ODxioeVnj4rZ"
      },
      "execution_count": null,
      "outputs": []
    },
    {
      "cell_type": "markdown",
      "source": [
        "# Funcion que permite subir varios archivos\n",
        "Pregunta si se quiere traslapar o no la informacion"
      ],
      "metadata": {
        "id": "6JJlQMEUnVkV"
      }
    },
    {
      "cell_type": "code",
      "source": [
        "# Cargar varios archivos desde el sistema local\n",
        "uploaded = files.upload()\n",
        "\n",
        "# Lista para almacenar DataFrames\n",
        "dataframes = []\n",
        "\n",
        "# Preguntar si se quiere traslapar la información\n",
        "traslapar = input(\"¿Deseas que se traslape la información? (si/no): \").strip().lower()\n",
        "\n",
        "# Procesar cada archivo cargado\n",
        "for fn in uploaded.keys():\n",
        "    print(f'Archivo cargado: \"{fn}\" con longitud {len(uploaded[fn])} bytes')\n",
        "\n",
        "    # Leer el archivo CSV en un DataFrame\n",
        "    df = pd.read_csv(fn, delimiter=\",\")\n",
        "    dataframes.append(df)\n",
        "\n",
        "# Fusionar los archivos si es necesario\n",
        "if traslapar == \"si\":\n",
        "    # Concatenar DataFrames permitiendo duplicados\n",
        "    df_final = pd.concat(dataframes, ignore_index=True)\n",
        "    print(\"Archivos traslapados (concatenados).\")\n",
        "else:\n",
        "    # Concatenar sin duplicados (por filas únicas)\n",
        "    df_final = pd.concat(dataframes, ignore_index=True).drop_duplicates()\n",
        "    print(\"Archivos combinados sin traslapar información (sin duplicados).\")\n",
        "\n",
        "# Mostrar las primeras filas del DataFrame final\n",
        "print(\"Resultado final:\")\n",
        "print(df_final.head())\n"
      ],
      "metadata": {
        "id": "LRyx0jJDndfF"
      },
      "execution_count": null,
      "outputs": []
    },
    {
      "cell_type": "markdown",
      "source": [
        "#Repositorio de github\n",
        "https://github.com/JoshuaPicado/Proyecto-agrovoltaic.git"
      ],
      "metadata": {
        "id": "R4pMQVrEganW"
      }
    }
  ]
}